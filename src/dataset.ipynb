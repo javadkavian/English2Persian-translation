{
 "cells": [
  {
   "cell_type": "code",
   "execution_count": 1,
   "metadata": {},
   "outputs": [
    {
     "data": {
      "text/html": [
       "<div>\n",
       "<style scoped>\n",
       "    .dataframe tbody tr th:only-of-type {\n",
       "        vertical-align: middle;\n",
       "    }\n",
       "\n",
       "    .dataframe tbody tr th {\n",
       "        vertical-align: top;\n",
       "    }\n",
       "\n",
       "    .dataframe thead th {\n",
       "        text-align: right;\n",
       "    }\n",
       "</style>\n",
       "<table border=\"1\" class=\"dataframe\">\n",
       "  <thead>\n",
       "    <tr style=\"text-align: right;\">\n",
       "      <th></th>\n",
       "      <th>persian</th>\n",
       "      <th>english</th>\n",
       "    </tr>\n",
       "  </thead>\n",
       "  <tbody>\n",
       "    <tr>\n",
       "      <th>0</th>\n",
       "      <td>اگه يک ذره ديگه ميومد جلوتر ميشاشيدم به خودم .</td>\n",
       "      <td>came a little too close . i almost pissed in m...</td>\n",
       "    </tr>\n",
       "    <tr>\n",
       "      <th>1</th>\n",
       "      <td>بعد از اينکه به دليل مصرف هيروئين و خشونت دستگ...</td>\n",
       "      <td>fresh from his most recent arrest for heroin ,...</td>\n",
       "    </tr>\n",
       "    <tr>\n",
       "      <th>2</th>\n",
       "      <td>رادنی درنگ کرد.</td>\n",
       "      <td>He paused:</td>\n",
       "    </tr>\n",
       "    <tr>\n",
       "      <th>3</th>\n",
       "      <td>زیرا دیوارهای آن به ضخامت سی گز است،</td>\n",
       "      <td>for the walls are near a hundred feet thick</td>\n",
       "    </tr>\n",
       "    <tr>\n",
       "      <th>4</th>\n",
       "      <td>آنجا ژان وال ژان از درشکه پیاده شده، و درشکه ک...</td>\n",
       "      <td>There he alighted, and the coach took Cosette ...</td>\n",
       "    </tr>\n",
       "  </tbody>\n",
       "</table>\n",
       "</div>"
      ],
      "text/plain": [
       "                                             persian  \\\n",
       "0     اگه يک ذره ديگه ميومد جلوتر ميشاشيدم به خودم .   \n",
       "1  بعد از اينکه به دليل مصرف هيروئين و خشونت دستگ...   \n",
       "2                                    رادنی درنگ کرد.   \n",
       "3               زیرا دیوارهای آن به ضخامت سی گز است،   \n",
       "4  آنجا ژان وال ژان از درشکه پیاده شده، و درشکه ک...   \n",
       "\n",
       "                                             english  \n",
       "0  came a little too close . i almost pissed in m...  \n",
       "1  fresh from his most recent arrest for heroin ,...  \n",
       "2                                         He paused:  \n",
       "3        for the walls are near a hundred feet thick  \n",
       "4  There he alighted, and the coach took Cosette ...  "
      ]
     },
     "execution_count": 1,
     "metadata": {},
     "output_type": "execute_result"
    }
   ],
   "source": [
    "import pandas as pd\n",
    "df = pd.read_csv('../dataset/shortened_dataset.csv')\n",
    "df.head()"
   ]
  }
 ],
 "metadata": {
  "kernelspec": {
   "display_name": "translation",
   "language": "python",
   "name": "python3"
  },
  "language_info": {
   "codemirror_mode": {
    "name": "ipython",
    "version": 3
   },
   "file_extension": ".py",
   "mimetype": "text/x-python",
   "name": "python",
   "nbconvert_exporter": "python",
   "pygments_lexer": "ipython3",
   "version": "3.9.12"
  }
 },
 "nbformat": 4,
 "nbformat_minor": 2
}
