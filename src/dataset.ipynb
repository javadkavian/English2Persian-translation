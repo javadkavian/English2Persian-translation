{
 "cells": [
  {
   "cell_type": "code",
   "execution_count": 3,
   "metadata": {},
   "outputs": [
    {
     "name": "stderr",
     "output_type": "stream",
     "text": [
      "Generating train split: 100%|██████████| 1621665/1621665 [00:00<00:00, 2264309.15 examples/s]\n",
      "Generating test split: 100%|██████████| 48359/48359 [00:00<00:00, 847816.00 examples/s]\n",
      "Generating validation split: 100%|██████████| 2137/2137 [00:00<?, ? examples/s]\n"
     ]
    }
   ],
   "source": [
    "# from datasets import load_dataset\n",
    "\n",
    "# ds = load_dataset(\"persiannlp/parsinlu_translation_en_fa\", trust_remote_code=True)"
   ]
  },
  {
   "cell_type": "code",
   "execution_count": 17,
   "metadata": {},
   "outputs": [
    {
     "name": "stdout",
     "output_type": "stream",
     "text": [
      "Due Thank You note by Egyptian blogger Abdel Monem Mahmoud: Following his release from prison, he wrote his first blog titled “Ana ikhwan… I am free”.\n",
      "['بلاگر مصری عبدل منعم محمود (عربی) پس از آزاد شدنش از زندان تیتر اولین مطلب خود را «من آزاد هستم» (عربی) انتخاب کرد.']\n"
     ]
    }
   ],
   "source": [
    "# print(ds['train']['source'][0])\n",
    "# print(ds['train']['targets'][0])"
   ]
  },
  {
   "cell_type": "code",
   "execution_count": 18,
   "metadata": {},
   "outputs": [
    {
     "name": "stderr",
     "output_type": "stream",
     "text": [
      "Saving the dataset (1/1 shards): 100%|██████████| 1621665/1621665 [00:00<00:00, 3358109.12 examples/s]\n",
      "Saving the dataset (1/1 shards): 100%|██████████| 48359/48359 [00:00<00:00, 1789891.96 examples/s]\n",
      "Saving the dataset (1/1 shards): 100%|██████████| 2137/2137 [00:00<00:00, 793908.56 examples/s]\n"
     ]
    }
   ],
   "source": [
    "# ds.save_to_disk('../dataset/')"
   ]
  },
  {
   "cell_type": "code",
   "execution_count": 21,
   "metadata": {},
   "outputs": [],
   "source": [
    "from datasets import load_from_disk\n",
    "ds = load_from_disk('../dataset/')"
   ]
  },
  {
   "cell_type": "code",
   "execution_count": 22,
   "metadata": {},
   "outputs": [
    {
     "name": "stdout",
     "output_type": "stream",
     "text": [
      "Due Thank You note by Egyptian blogger Abdel Monem Mahmoud: Following his release from prison, he wrote his first blog titled “Ana ikhwan… I am free”.\n",
      "['بلاگر مصری عبدل منعم محمود (عربی) پس از آزاد شدنش از زندان تیتر اولین مطلب خود را «من آزاد هستم» (عربی) انتخاب کرد.']\n"
     ]
    }
   ],
   "source": [
    "print(ds['train']['source'][0])\n",
    "print(ds['train']['targets'][0])"
   ]
  }
 ],
 "metadata": {
  "kernelspec": {
   "display_name": "translation",
   "language": "python",
   "name": "python3"
  },
  "language_info": {
   "codemirror_mode": {
    "name": "ipython",
    "version": 3
   },
   "file_extension": ".py",
   "mimetype": "text/x-python",
   "name": "python",
   "nbconvert_exporter": "python",
   "pygments_lexer": "ipython3",
   "version": "3.9.12"
  }
 },
 "nbformat": 4,
 "nbformat_minor": 2
}
